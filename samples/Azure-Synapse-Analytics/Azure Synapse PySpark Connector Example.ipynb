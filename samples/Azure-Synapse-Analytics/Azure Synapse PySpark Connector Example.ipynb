{
  "cells": [
    {
      "cell_type": "code",
      "source": [
        "# Microsoft ADAL Library \r\n",
        "# The Python ADAL library will need to be installed.\r\n",
        "\r\n",
        "# Documentation\r\n",
        "# https://github.com/AzureAD/azure-activedirectory-library-for-python\r\n",
        "\r\n",
        "# Example\r\n",
        "# https://github.com/AzureAD/azure-activedirectory-library-for-python/blob/dev/sample/client_credentials_sample.py\r\n",
        "\r\n",
        "# Note, the Python ADAL library is no longer being maintained and it's documentation suggests to use MSAL. \r\n",
        "# Unfortunately, it doesn't have feature parity with adal at this point and does not support service principal authentication.\r\n",
        "import adal"
      ],
      "outputs": [],
      "execution_count": null,
      "metadata": {
        "collapsed": true,
        "jupyter": {
          "source_hidden": false,
          "outputs_hidden": false
        },
        "nteract": {
          "transient": {
            "deleting": false
          }
        }
      }
    },
    {
      "cell_type": "markdown",
      "source": [
        "# Provide connection details"
      ],
      "metadata": {
        "nteract": {
          "transient": {
            "deleting": false
          }
        }
      }
    },
    {
      "cell_type": "code",
      "source": [
        "# Located in App Registrations from Azure Portal\r\n",
        "tenant_id = \"<<enter tenant_id>>\"\r\n",
        "\r\n",
        "# Authority\r\n",
        "authority = \"https://login.windows.net/\" + tenant_id\r\n",
        "\r\n",
        "# Located in App Registrations from Azure Portal\r\n",
        "resource_app_id_url = \"https://database.windows.net/\"\r\n",
        "\r\n",
        "# In the below example, we're using a Microsoft Spark utility that facilitates acquiring secrets from a configured Key Vault.  \r\n",
        "\r\n",
        "# Service Principal Client ID - Created in App Registrations from Azure Portal\r\n",
        "service_principal_id = mssparkutils.credentials.getSecret('azure key vault name','principalClientId')\r\n",
        "\r\n",
        "# Service Principal Secret - Created in App Registrations from Azure Portal\r\n",
        "service_principal_secret = mssparkutils.credentials.getSecret('azure key vault name','principalSecret')\r\n",
        "\r\n",
        "# SQL Server URL\r\n",
        "servername = \"jdbc:sqlserver://azuresqlserver.database.windows.net\"\r\n",
        "url = servername + \";\" + \"databaseName=\" + dbname + \";\"\r\n",
        "\r\n",
        "# Database Name\r\n",
        "dbname = \"TestDatabase\"\r\n",
        "\r\n",
        "# Database Table Name\r\n",
        "dbtable = \"dbo.TestTable\" \r\n",
        "\r\n",
        "# SQL Authentication User Name\r\n",
        "user = \"midesa@midesa\"\r\n",
        "\r\n",
        "# SQL Authentication Password\r\n",
        "password = mssparkutils.credentials.getSecret('azure key vault name','secret name')\r\n"
      ],
      "outputs": [
        {
          "output_type": "display_data",
          "data": {
            "application/vnd.livy.statement-meta+json": {
              "spark_pool": "sp03",
              "session_id": 66,
              "statement_id": 1,
              "state": "finished",
              "livy_statement_state": "available",
              "queued_time": "2021-05-10T20:39:35.8169809Z",
              "execution_start_time": "2021-05-10T20:42:15.4885135Z",
              "execution_finish_time": "2021-05-10T20:42:17.5573269Z"
            },
            "text/plain": "StatementMeta(sp03, 66, 1, Finished, Available)"
          },
          "metadata": {}
        },
        {
          "output_type": "stream",
          "name": "stdout",
          "text": []
        }
      ],
      "execution_count": 1,
      "metadata": {}
    },
    {
      "cell_type": "markdown",
      "source": [
        "# Active Directory Authentication"
      ],
      "metadata": {
        "nteract": {
          "transient": {
            "deleting": false
          }
        }
      }
    },
    {
      "cell_type": "code",
      "source": [
        "context = adal.AuthenticationContext(authority)\r\n",
        "token = context.acquire_token_with_client_credentials(resource_app_id_url, service_principal_id, service_principal_secret)\r\n",
        "access_token = token[\"accessToken\"]\r\n",
        "\r\n",
        "jdbc_db = spark.read \\\r\n",
        "        .format(\"com.microsoft.sqlserver.jdbc.spark\") \\\r\n",
        "        .option(\"url\", url) \\\r\n",
        "        .option(\"dbtable\", dbtable) \\\r\n",
        "        .option(\"accessToken\", access_token) \\\r\n",
        "        .option(\"encrypt\", \"true\") \\\r\n",
        "        .option(\"hostNameInCertificate\", \"*.database.windows.net\") \\\r\n",
        "        .load()"
      ],
      "outputs": [],
      "execution_count": null,
      "metadata": {
        "jupyter": {
          "source_hidden": false,
          "outputs_hidden": false
        },
        "nteract": {
          "transient": {
            "deleting": false
          }
        },
        "collapsed": true
      }
    },
    {
      "cell_type": "code",
      "source": [
        "jdbc_df = spark.read \\\r\n",
        "        .format(\"com.microsoft.sqlserver.jdbc.spark\") \\\r\n",
        "        .option(\"url\", url) \\\r\n",
        "        .option(\"dbtable\", dbtable) \\\r\n",
        "        .option(\"authentication\", \"ActiveDirectoryPassword\") \\\r\n",
        "        .option(\"user\", \"midesa@microsoft.com\") \\\r\n",
        "        .option(\"password\", \"Nostrand@2019\") \\\r\n",
        "        .option(\"encrypt\", \"true\") \\\r\n",
        "        .option(\"hostNameInCertificate\", \"*.database.windows.net\") \\\r\n",
        "        .load()"
      ],
      "outputs": [],
      "execution_count": null,
      "metadata": {
        "jupyter": {
          "source_hidden": false,
          "outputs_hidden": false
        },
        "nteract": {
          "transient": {
            "deleting": false
          }
        },
        "collapsed": true
      }
    },
    {
      "cell_type": "markdown",
      "source": [
        "# Azure SQL Authentication"
      ],
      "metadata": {
        "nteract": {
          "transient": {
            "deleting": false
          }
        }
      }
    },
    {
      "cell_type": "code",
      "source": [
        "# Write Data\r\n",
        "try:\r\n",
        "  df.write \\\r\n",
        "    .format(\"com.microsoft.sqlserver.jdbc.spark\") \\\r\n",
        "    .mode(\"overwrite\") \\\r\n",
        "    .option(\"url\", url) \\\r\n",
        "    .option(\"dbtable\", dbtable) \\\r\n",
        "    .option(\"user\", user) \\\r\n",
        "    .option(\"password\", password) \\\r\n",
        "    .save()\r\n",
        "except ValueError as error :\r\n",
        "    print(\"MSSQL Connector write failed\", error)\r\n",
        "\r\n",
        "print(\"MSSQL Connector write(overwrite) succeeded  \")"
      ],
      "outputs": [],
      "execution_count": null,
      "metadata": {
        "jupyter": {
          "source_hidden": false,
          "outputs_hidden": false
        },
        "nteract": {
          "transient": {
            "deleting": false
          }
        },
        "collapsed": true
      }
    },
    {
      "cell_type": "code",
      "source": [
        "# Read Data\r\n",
        "\r\n",
        "print(\"read data from SQL server table  \")\r\n",
        "jdbcDF = spark.read \\\r\n",
        "        .format(\"com.microsoft.sqlserver.jdbc.spark\") \\\r\n",
        "        .option(\"url\", url) \\\r\n",
        "        .option(\"dbtable\", dbtable) \\\r\n",
        "        .option(\"user\", user) \\\r\n",
        "        .option(\"password\", password)\\\r\n",
        "        .load()\r\n",
        "\r\n",
        "jdbcDF.show(5)"
      ],
      "outputs": [],
      "execution_count": null,
      "metadata": {
        "jupyter": {
          "source_hidden": false,
          "outputs_hidden": false
        },
        "nteract": {
          "transient": {
            "deleting": false
          }
        },
        "collapsed": true
      }
    }
  ],
  "metadata": {
    "kernelspec": {
      "name": "synapse_pyspark",
      "display_name": "python"
    },
    "language_info": {
      "name": "python"
    },
    "save_output": true,
    "synapse_widget": {
      "version": "0.1",
      "state": {}
    }
  },
  "nbformat": 4,
  "nbformat_minor": 2
}