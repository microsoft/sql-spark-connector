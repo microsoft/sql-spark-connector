{
    "metadata": {
        "kernelspec": {
            "name": "SQL",
            "display_name": "SQL",
            "language": "sql"
        },
        "language_info": {
            "name": "sql",
            "version": ""
        }
    },
    "nbformat_minor": 2,
    "nbformat": 4,
    "cells": [
        {
            "cell_type": "code",
            "source": [
                "CREATE DATABASE connector_test_db1"
            ],
            "metadata": {
                "azdata_cell_guid": "5b1fd0a6-20b8-4e6a-9578-10bea2a3a43d"
            },
            "outputs": [
                {
                    "output_type": "display_data",
                    "data": {
                        "text/html": "Commands completed successfully."
                    },
                    "metadata": {}
                },
                {
                    "output_type": "display_data",
                    "data": {
                        "text/html": "Total execution time: 00:00:00.640"
                    },
                    "metadata": {}
                }
            ],
            "execution_count": 1
        },
        {
            "cell_type": "code",
            "source": [
                "Use connector_test_db1;\r\n",
                "CREATE LOGIN connector_user1  WITH PASSWORD ='password123!#' \r\n",
                "CREATE USER connector_user1 FROM LOGIN connector_user1\r\n",
                "\r\n",
                "-- to view data pool node configuration\r\n",
                "grant VIEW DATABASE STATE to connector_user1\r\n",
                "\r\n",
                "-- To create external tables in data pools\r\n",
                "grant alter any external data source to connector_user1;\r\n",
                "\r\n",
                "-- To create external table\r\n",
                "grant create table to connector_user1;\r\n",
                "grant alter any schema to connector_user1;\r\n",
                "\r\n",
                "\r\n",
                "\r\n",
                "ALTER ROLE [db_datareader] ADD MEMBER connector_user1\r\n",
                "ALTER ROLE [db_datawriter] ADD MEMBER connector_user1"
            ],
            "metadata": {
                "azdata_cell_guid": "378bb099-8499-4661-9745-527a1ed19579"
            },
            "outputs": [
                {
                    "output_type": "display_data",
                    "data": {
                        "text/html": "Commands completed successfully."
                    },
                    "metadata": {}
                },
                {
                    "output_type": "display_data",
                    "data": {
                        "text/html": "Total execution time: 00:00:00.108"
                    },
                    "metadata": {}
                }
            ],
            "execution_count": 2
        },
        {
            "cell_type": "code",
            "source": [
                "-- append with computed columns at start and end\r\n",
                "USE connector_test_db1;\r\n",
                "\r\n",
                "CREATE TABLE test1\r\n",
                "(\r\n",
                "    Date As (Year + '-' + Month),\r\n",
                "    Id bigint,\r\n",
                "    Year nvarchar(4),\r\n",
                "    Month nvarchar(2),\r\n",
                "    Years AS REPLICATE(Year, 2)\r\n",
                ")"
            ],
            "metadata": {
                "azdata_cell_guid": "dde73601-c253-45c8-b385-94da828ef6da"
            },
            "outputs": [
                {
                    "output_type": "display_data",
                    "data": {
                        "text/html": "Commands completed successfully."
                    },
                    "metadata": {}
                },
                {
                    "output_type": "display_data",
                    "data": {
                        "text/html": "Total execution time: 00:00:00.090"
                    },
                    "metadata": {}
                }
            ],
            "execution_count": 10
        },
        {
            "cell_type": "code",
            "source": [
                "-- append with 1 computed column in between\r\n",
                "USE connector_test_db1;\r\n",
                "CREATE TABLE test2\r\n",
                "(\r\n",
                "    Id bigint,\r\n",
                "    Date As (Year + '-' + Month),\r\n",
                "    Year nvarchar(4),\r\n",
                "    Month nvarchar(2)\r\n",
                ")"
            ],
            "metadata": {
                "azdata_cell_guid": "d25fe7a7-c8cf-498e-89f9-3335277a2db1",
                "tags": []
            },
            "outputs": [
                {
                    "output_type": "display_data",
                    "data": {
                        "text/html": "Commands completed successfully."
                    },
                    "metadata": {}
                },
                {
                    "output_type": "display_data",
                    "data": {
                        "text/html": "Total execution time: 00:00:00.103"
                    },
                    "metadata": {}
                }
            ],
            "execution_count": 11
        },
        {
            "cell_type": "code",
            "source": [
                "-- append with 2 computed columns in between\r\n",
                "USE connector_test_db1;\r\n",
                "\r\n",
                "CREATE TABLE test3\r\n",
                "(\r\n",
                "    Id bigint,\r\n",
                "    Date As (Year + '-' + Month),\r\n",
                "    Year nvarchar(4),\r\n",
                "    Years AS REPLICATE(Year, 2),\r\n",
                "    Month nvarchar(2)\r\n",
                ")"
            ],
            "metadata": {
                "azdata_cell_guid": "2b952d30-7ca9-49d4-9cd8-92a35d30d881",
                "tags": []
            },
            "outputs": [
                {
                    "output_type": "display_data",
                    "data": {
                        "text/html": "Commands completed successfully."
                    },
                    "metadata": {}
                },
                {
                    "output_type": "display_data",
                    "data": {
                        "text/html": "Total execution time: 00:00:00.089"
                    },
                    "metadata": {}
                }
            ],
            "execution_count": 12
        },
        {
            "cell_type": "code",
            "source": [
                "-- append with 1 computed column in df and table, but table has 1 less col\r\n",
                "USE connector_test_db1;\r\n",
                "\r\n",
                "CREATE TABLE test4\r\n",
                "(\r\n",
                "    Id bigint,\r\n",
                "    Year nvarchar(4),\r\n",
                "    Years AS REPLICATE(Year, 2)\r\n",
                ")"
            ],
            "metadata": {
                "azdata_cell_guid": "e7b24025-05e0-40de-992f-0ca41bfcc246",
                "tags": []
            },
            "outputs": [
                {
                    "output_type": "display_data",
                    "data": {
                        "text/html": "Commands completed successfully."
                    },
                    "metadata": {}
                },
                {
                    "output_type": "display_data",
                    "data": {
                        "text/html": "Total execution time: 00:00:00.257"
                    },
                    "metadata": {}
                }
            ],
            "execution_count": 16
        }
    ]
}