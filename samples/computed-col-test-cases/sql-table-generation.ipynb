{
    "metadata": {
        "kernelspec": {
            "name": "SQL",
            "display_name": "SQL",
            "language": "sql"
        },
        "language_info": {
            "name": "sql",
            "version": ""
        },
        "extensions": {
            "azuredatastudio": {
                "version": 1,
                "views": []
            }
        }
    },
    "nbformat_minor": 2,
    "nbformat": 4,
    "cells": [
        {
            "cell_type": "code",
            "source": [
                "CREATE DATABASE connector_test_db"
            ],
            "metadata": {
                "azdata_cell_guid": "5b1fd0a6-20b8-4e6a-9578-10bea2a3a43d",
                "extensions": {
                    "azuredatastudio": {
                        "views": []
                    }
                }
            },
            "outputs": [
                {
                    "output_type": "display_data",
                    "data": {
                        "text/html": "Commands completed successfully."
                    },
                    "metadata": {}
                },
                {
                    "output_type": "display_data",
                    "data": {
                        "text/html": "Total execution time: 00:00:00.640"
                    },
                    "metadata": {}
                }
            ],
            "execution_count": 1
        },
        {
            "cell_type": "code",
            "source": [
                "Use connector_test_db;\r\n",
                "CREATE LOGIN connector_user1  WITH PASSWORD ='password123!#' \r\n",
                "CREATE USER connector_user1 FROM LOGIN connector_user1\r\n",
                "\r\n",
                "-- to view data pool node configuration\r\n",
                "grant VIEW DATABASE STATE to connector_user1\r\n",
                "\r\n",
                "-- To create external tables in data pools\r\n",
                "grant alter any external data source to connector_user1;\r\n",
                "\r\n",
                "-- To create external table\r\n",
                "grant create table to connector_user1;\r\n",
                "grant alter any schema to connector_user1;\r\n",
                "\r\n",
                "\r\n",
                "\r\n",
                "ALTER ROLE [db_datareader] ADD MEMBER connector_user1\r\n",
                "ALTER ROLE [db_datawriter] ADD MEMBER connector_user1"
            ],
            "metadata": {
                "azdata_cell_guid": "378bb099-8499-4661-9745-527a1ed19579",
                "extensions": {
                    "azuredatastudio": {
                        "views": []
                    }
                }
            },
            "outputs": [
                {
                    "output_type": "display_data",
                    "data": {
                        "text/html": "Commands completed successfully."
                    },
                    "metadata": {}
                },
                {
                    "output_type": "display_data",
                    "data": {
                        "text/html": "Total execution time: 00:00:00.108"
                    },
                    "metadata": {}
                }
            ],
            "execution_count": 2
        },
        {
            "cell_type": "markdown",
            "source": [
                "### **1\\. Tables with computed columns**"
            ],
            "metadata": {
                "azdata_cell_guid": "70883f0f-b454-4c6c-957f-272397b77029"
            },
            "attachments": {}
        },
        {
            "cell_type": "code",
            "source": [
                "-- append with computed columns at start and end\r\n",
                "USE connector_test_db;\r\n",
                "\r\n",
                "CREATE TABLE test_computed_col_1\r\n",
                "(\r\n",
                "    Date As (Year + '-' + Month),\r\n",
                "    Id bigint,\r\n",
                "    Year nvarchar(4),\r\n",
                "    Month nvarchar(2),\r\n",
                "    Years AS REPLICATE(Year, 2)\r\n",
                ")"
            ],
            "metadata": {
                "azdata_cell_guid": "dde73601-c253-45c8-b385-94da828ef6da",
                "extensions": {
                    "azuredatastudio": {
                        "views": []
                    }
                }
            },
            "outputs": [
                {
                    "output_type": "display_data",
                    "data": {
                        "text/html": "Commands completed successfully."
                    },
                    "metadata": {}
                },
                {
                    "output_type": "display_data",
                    "data": {
                        "text/html": "Total execution time: 00:00:00.011"
                    },
                    "metadata": {}
                }
            ],
            "execution_count": 1
        },
        {
            "cell_type": "code",
            "source": [
                "-- append with 1 computed column in between\r\n",
                "USE connector_test_db;\r\n",
                "CREATE TABLE test_computed_col_2\r\n",
                "(\r\n",
                "    Id bigint,\r\n",
                "    Date As (Year + '-' + Month),\r\n",
                "    Year nvarchar(4),\r\n",
                "    Month nvarchar(2)\r\n",
                ")"
            ],
            "metadata": {
                "azdata_cell_guid": "d25fe7a7-c8cf-498e-89f9-3335277a2db1",
                "tags": [],
                "extensions": {
                    "azuredatastudio": {
                        "views": []
                    }
                }
            },
            "outputs": [
                {
                    "output_type": "display_data",
                    "data": {
                        "text/html": "Commands completed successfully."
                    },
                    "metadata": {}
                },
                {
                    "output_type": "display_data",
                    "data": {
                        "text/html": "Total execution time: 00:00:00.010"
                    },
                    "metadata": {}
                }
            ],
            "execution_count": 2
        },
        {
            "cell_type": "code",
            "source": [
                "-- append with 2 computed columns in between\r\n",
                "USE connector_test_db;\r\n",
                "\r\n",
                "CREATE TABLE test_computed_col_3\r\n",
                "(\r\n",
                "    Id bigint,\r\n",
                "    Date As (Year + '-' + Month),\r\n",
                "    Year nvarchar(4),\r\n",
                "    Years AS REPLICATE(Year, 2),\r\n",
                "    Month nvarchar(2)\r\n",
                ")"
            ],
            "metadata": {
                "azdata_cell_guid": "2b952d30-7ca9-49d4-9cd8-92a35d30d881",
                "tags": [],
                "extensions": {
                    "azuredatastudio": {
                        "views": []
                    }
                }
            },
            "outputs": [
                {
                    "output_type": "display_data",
                    "data": {
                        "text/html": "Commands completed successfully."
                    },
                    "metadata": {}
                },
                {
                    "output_type": "display_data",
                    "data": {
                        "text/html": "Total execution time: 00:00:00.011"
                    },
                    "metadata": {}
                }
            ],
            "execution_count": 3
        },
        {
            "cell_type": "code",
            "source": [
                "-- append with 1 computed column in df and table, but table has 1 less col\r\n",
                "USE connector_test_db;\r\n",
                "\r\n",
                "CREATE TABLE test_computed_col_4\r\n",
                "(\r\n",
                "    Id bigint,\r\n",
                "    Year nvarchar(4),\r\n",
                "    Years AS REPLICATE(Year, 2)\r\n",
                ")"
            ],
            "metadata": {
                "azdata_cell_guid": "e7b24025-05e0-40de-992f-0ca41bfcc246",
                "tags": [],
                "extensions": {
                    "azuredatastudio": {
                        "views": []
                    }
                }
            },
            "outputs": [
                {
                    "output_type": "display_data",
                    "data": {
                        "text/html": "Commands completed successfully."
                    },
                    "metadata": {}
                },
                {
                    "output_type": "display_data",
                    "data": {
                        "text/html": "Total execution time: 00:00:00.012"
                    },
                    "metadata": {}
                }
            ],
            "execution_count": 4
        },
        {
            "cell_type": "markdown",
            "source": [
                "### **2\\. Temporal Tables (Generated Always)**"
            ],
            "metadata": {
                "azdata_cell_guid": "d3d3ead0-0b97-43c5-988c-c186bc16f39c"
            },
            "attachments": {}
        },
        {
            "cell_type": "code",
            "source": [
                "USE connector_test_db;\r\n",
                "CREATE TABLE dbo.tempTest\r\n",
                "(\r\n",
                "  Id bigint NOT NULL PRIMARY KEY CLUSTERED\r\n",
                "  , Year nvarchar(4)\r\n",
                "  , Month nvarchar(2)\r\n",
                "  , [ValidFrom] datetime2 GENERATED ALWAYS AS ROW START\r\n",
                "  , [ValidTo] datetime2 GENERATED ALWAYS AS ROW END\r\n",
                "  , PERIOD FOR SYSTEM_TIME (ValidFrom, ValidTo)\r\n",
                " )\r\n",
                "WITH (SYSTEM_VERSIONING = ON (HISTORY_TABLE = dbo.tempTestHistory));"
            ],
            "metadata": {
                "azdata_cell_guid": "881271ce-3847-4b82-93a5-6e5be1d577f3"
            },
            "outputs": [
                {
                    "output_type": "display_data",
                    "data": {
                        "text/html": "Commands completed successfully."
                    },
                    "metadata": {}
                },
                {
                    "output_type": "display_data",
                    "data": {
                        "text/html": "Total execution time: 00:00:00.015"
                    },
                    "metadata": {}
                }
            ],
            "execution_count": 13
        },
        {
            "cell_type": "code",
            "source": [
                "-- create table with comptued cols and then convert it to temporal tables\r\n",
                "USE connector_test_db;\r\n",
                "CREATE TABLE test_computed_temp\r\n",
                "(\r\n",
                "    Date As (Year + '-' + Month),\r\n",
                "    Id bigint PRIMARY KEY NOT NULL,\r\n",
                "    Year nvarchar(4),\r\n",
                "    Month nvarchar(2),\r\n",
                "    Years AS REPLICATE(Year, 2)\r\n",
                ")\r\n",
                "\r\n",
                "-- Convert test_computed_col_1 to temporal tables\r\n",
                "ALTER TABLE test_computed_temp\r\n",
                "    ADD \r\n",
                "        [ValidFrom] datetime2 GENERATED ALWAYS AS ROW START DEFAULT GETUTCDATE()\r\n",
                "        , [ValidTo] datetime2 GENERATED ALWAYS AS ROW END DEFAULT CONVERT(DATETIME2, '9999-12-31 23:59:59.9999999')\r\n",
                "        , PERIOD FOR SYSTEM_TIME (ValidFrom, ValidTo)\r\n",
                "\r\n",
                "ALTER TABLE test_computed_temp SET (SYSTEM_VERSIONING = ON (HISTORY_TABLE = dbo.test_computed_temp_history));"
            ],
            "metadata": {
                "azdata_cell_guid": "e42ca950-3d69-4f91-9790-bec158e50f70"
            },
            "outputs": [
                {
                    "output_type": "display_data",
                    "data": {
                        "text/html": "Commands completed successfully."
                    },
                    "metadata": {}
                },
                {
                    "output_type": "display_data",
                    "data": {
                        "text/html": "Total execution time: 00:00:00.032"
                    },
                    "metadata": {}
                }
            ],
            "execution_count": 27
        },
        {
            "cell_type": "code",
            "source": [
                "-- Use below to drop temporal tables\r\n",
                "/*\r\n",
                "USE connector_test_db;\r\n",
                "ALTER TABLE dbo.tempTest SET (SYSTEM_VERSIONING = OFF);\r\n",
                "DROP TABLE dbo.tempTest;\r\n",
                "DROP TABLE dbo.tempTestHistory;\r\n",
                "*/\r\n",
                "\r\n",
                "/*\r\n",
                "USE connector_test_db;\r\n",
                "ALTER TABLE dbo.test_computed_temp SET (SYSTEM_VERSIONING = OFF);\r\n",
                "DROP TABLE dbo.test_computed_temp;\r\n",
                "DROP TABLE test_computed_temp_history;\r\n",
                "*/"
            ],
            "metadata": {
                "azdata_cell_guid": "261485c2-7076-49cb-aeb5-1e4048da1eb0"
            },
            "outputs": [],
            "execution_count": null
        },
        {
            "cell_type": "markdown",
            "source": [
                "### **3\\. Graph Table**"
            ],
            "metadata": {
                "azdata_cell_guid": "02655951-5f8e-4420-973b-f5545f4658f6"
            },
            "attachments": {}
        },
        {
            "cell_type": "code",
            "source": [
                "USE connector_test_db\r\n",
                "GO\r\n",
                "\r\n",
                "CREATE TABLE [dbo].[ForumPosts](\r\n",
                "    [PostID] [bigint] NULL,\r\n",
                "    [PostTitle] [varchar](100) NULL,\r\n",
                "    [PostBody] [varchar](1000) NULL\r\n",
                ") AS NODE\r\n",
                "GO\r\n",
                "\r\n",
                "CREATE TABLE [dbo].[Replies]\r\n",
                "AS EDGE\r\n",
                "GO"
            ],
            "metadata": {
                "azdata_cell_guid": "07283020-b4c9-4a8d-af98-c1be3301a413"
            },
            "outputs": [
                {
                    "output_type": "display_data",
                    "data": {
                        "text/html": "Commands completed successfully."
                    },
                    "metadata": {}
                },
                {
                    "output_type": "display_data",
                    "data": {
                        "text/html": "Commands completed successfully."
                    },
                    "metadata": {}
                },
                {
                    "output_type": "display_data",
                    "data": {
                        "text/html": "Commands completed successfully."
                    },
                    "metadata": {}
                },
                {
                    "output_type": "display_data",
                    "data": {
                        "text/html": "Total execution time: 00:00:00.027"
                    },
                    "metadata": {}
                }
            ],
            "execution_count": 11
        }
    ]
}