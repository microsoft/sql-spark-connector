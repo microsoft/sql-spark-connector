{
    "metadata": {
        "kernelspec": {
            "name": "pysparkkernel",
            "display_name": "PySpark",
            "language": ""
        },
        "language_info": {
            "name": "pyspark",
            "mimetype": "text/x-python",
            "codemirror_mode": {
                "name": "python",
                "version": 3
            },
            "pygments_lexer": "python3"
        }
    },
    "nbformat_minor": 2,
    "nbformat": 4,
    "cells": [
        {
            "cell_type": "code",
            "source": [
                "# spark = SparkSession.builder.getOrCreate()\r\n",
                "# sc.setLogLevel(\"INFO\")\r\n",
                "spark.sparkContext.setLogLevel('DEBUG')\r\n",
                "data = [(1, \"2020\", \"01\"),\r\n",
                "        (2, \"2020\", \"02\"),\r\n",
                "        (3, \"2020\", \"03\")]\r\n",
                "columns = [\"Id\", \"Year\", \"Month\"]\r\n",
                "df = spark.createDataFrame(data = data, schema = columns)\r\n",
                "df.show()"
            ],
            "metadata": {
                "azdata_cell_guid": "fd51c6bb-ca56-47f7-b8ed-62baad1bd782",
                "tags": []
            },
            "outputs": [
                {
                    "name": "stdout",
                    "text": "Starting Spark application\n",
                    "output_type": "stream"
                },
                {
                    "data": {
                        "text/plain": "<IPython.core.display.HTML object>",
                        "text/html": "<table>\n<tr><th>ID</th><th>YARN Application ID</th><th>Kind</th><th>State</th><th>Spark UI</th><th>Driver log</th><th>Current session?</th></tr><tr><td>3</td><td>application_1617815319900_0008</td><td>pyspark</td><td>idle</td><td><a target=\"_blank\" href=\"https://10.193.18.148:30443/gateway/default/yarn/proxy/application_1617815319900_0008/\">Link</a></td><td><a target=\"_blank\" href=\"https://10.193.18.148:30443/gateway/default/yarn/container/container_1617815319900_0008_01_000001/livy\">Link</a></td><td>✔</td></tr></table>"
                    },
                    "metadata": {},
                    "output_type": "display_data"
                },
                {
                    "data": {
                        "text/plain": "FloatProgress(value=0.0, bar_style='info', description='Progress:', layout=Layout(height='25px', width='50%'),…",
                        "application/vnd.jupyter.widget-view+json": {
                            "version_major": 2,
                            "version_minor": 0,
                            "model_id": "38d9bc1016e047b9b974ccaab4f34ad8"
                        }
                    },
                    "metadata": {},
                    "output_type": "display_data"
                },
                {
                    "name": "stdout",
                    "text": "SparkSession available as 'spark'.\n",
                    "output_type": "stream"
                },
                {
                    "data": {
                        "text/plain": "FloatProgress(value=0.0, bar_style='info', description='Progress:', layout=Layout(height='25px', width='50%'),…",
                        "application/vnd.jupyter.widget-view+json": {
                            "version_major": 2,
                            "version_minor": 0,
                            "model_id": "fec6769d00164cb5a00c6f72cf40cf5b"
                        }
                    },
                    "metadata": {},
                    "output_type": "display_data"
                },
                {
                    "name": "stdout",
                    "text": "+---+----+-----+\n| Id|Year|Month|\n+---+----+-----+\n|  1|2020|   01|\n|  2|2020|   02|\n|  3|2020|   03|\n+---+----+-----+",
                    "output_type": "stream"
                }
            ],
            "execution_count": 2
        },
        {
            "cell_type": "code",
            "source": [
                "servername = \"jdbc:sqlserver://master-0.master-svc\"\r\n",
                "dbname = \"connector_test_db1\"\r\n",
                "url = servername + \";\" + \"databaseName=\" + dbname + \";\"\r\n",
                "\r\n",
                "user = \"connector_user1\"\r\n",
                "password = \"password123!#\" # Please specify password here"
            ],
            "metadata": {
                "azdata_cell_guid": "fdc8b9c8-36eb-4280-b32e-6a95b0e11e45"
            },
            "outputs": [
                {
                    "data": {
                        "text/plain": "FloatProgress(value=0.0, bar_style='info', description='Progress:', layout=Layout(height='25px', width='50%'),…",
                        "application/vnd.jupyter.widget-view+json": {
                            "version_major": 2,
                            "version_minor": 0,
                            "model_id": "802063b9be4e4abf97c8fc2b84789b32"
                        }
                    },
                    "metadata": {},
                    "output_type": "display_data"
                }
            ],
            "execution_count": 3
        },
        {
            "cell_type": "code",
            "source": [
                "## append with computed columns at start and end\r\n",
                "# Write from Spark to SQL table using MSSQL Spark Connector\r\n",
                "dbtable = \"test1\"\r\n",
                "\r\n",
                "try:\r\n",
                "  df.write \\\r\n",
                "    .format(\"com.microsoft.sqlserver.jdbc.spark\") \\\r\n",
                "    .mode(\"append\") \\\r\n",
                "    .option(\"url\", url) \\\r\n",
                "    .option(\"dbtable\", dbtable) \\\r\n",
                "    .option(\"user\", user) \\\r\n",
                "    .option(\"password\", password) \\\r\n",
                "    .save()\r\n",
                "except ValueError as error :\r\n",
                "    print(\"MSSQL Connector write failed\", error)\r\n",
                "\r\n",
                "print(\"MSSQL Connector write(append) succeeded  \")"
            ],
            "metadata": {
                "azdata_cell_guid": "2f936a04-6110-47d7-ab25-87308576ab57"
            },
            "outputs": [
                {
                    "data": {
                        "text/plain": "FloatProgress(value=0.0, bar_style='info', description='Progress:', layout=Layout(height='25px', width='50%'),…",
                        "application/vnd.jupyter.widget-view+json": {
                            "version_major": 2,
                            "version_minor": 0,
                            "model_id": "4ebad3e502dd48a2924e8762da7de964"
                        }
                    },
                    "metadata": {},
                    "output_type": "display_data"
                },
                {
                    "name": "stdout",
                    "text": "MSSQL Connector write(append) succeeded",
                    "output_type": "stream"
                }
            ],
            "execution_count": 25
        },
        {
            "cell_type": "code",
            "source": [
                "#Read from SQL table using MSSQ Connector\r\n",
                "dbtable = \"test1\"\r\n",
                "\r\n",
                "jdbcDF = spark.read \\\r\n",
                "        .format(\"com.microsoft.sqlserver.jdbc.spark\") \\\r\n",
                "        .option(\"url\", url) \\\r\n",
                "        .option(\"dbtable\", dbtable) \\\r\n",
                "        .option(\"user\", user) \\\r\n",
                "        .option(\"password\", password).load()\r\n",
                "\r\n",
                "jdbcDF.show(5)"
            ],
            "metadata": {
                "azdata_cell_guid": "f957925e-2d9a-4cf0-a610-28fcf1e746ba"
            },
            "outputs": [
                {
                    "data": {
                        "text/plain": "FloatProgress(value=0.0, bar_style='info', description='Progress:', layout=Layout(height='25px', width='50%'),…",
                        "application/vnd.jupyter.widget-view+json": {
                            "version_major": 2,
                            "version_minor": 0,
                            "model_id": "2fd8cdda3c284875944c0399527cd36a"
                        }
                    },
                    "metadata": {},
                    "output_type": "display_data"
                },
                {
                    "name": "stdout",
                    "text": "+-------+---+----+-----+--------+\n|   Date| Id|Year|Month|   Years|\n+-------+---+----+-----+--------+\n|2020-01|  1|2020|   01|20202020|\n|2020-02|  2|2020|   02|20202020|\n|2020-03|  3|2020|   03|20202020|\n+-------+---+----+-----+--------+",
                    "output_type": "stream"
                }
            ],
            "execution_count": 26
        },
        {
            "cell_type": "code",
            "source": [
                "## append with 1 computed column in between\r\n",
                "# Write from Spark to SQL table using MSSQL Spark Connector\r\n",
                "dbtable = \"test2\"\r\n",
                "\r\n",
                "try:\r\n",
                "  df.write \\\r\n",
                "    .format(\"com.microsoft.sqlserver.jdbc.spark\") \\\r\n",
                "    .mode(\"append\") \\\r\n",
                "    .option(\"url\", url) \\\r\n",
                "    .option(\"dbtable\", dbtable) \\\r\n",
                "    .option(\"user\", user) \\\r\n",
                "    .option(\"password\", password) \\\r\n",
                "    .save()\r\n",
                "except ValueError as error :\r\n",
                "    print(\"MSSQL Connector write failed\", error)\r\n",
                "\r\n",
                "print(\"MSSQL Connector write(append) succeeded  \")"
            ],
            "metadata": {
                "azdata_cell_guid": "f51da718-8527-45c0-a739-b0e64af4e7a6",
                "tags": []
            },
            "outputs": [
                {
                    "data": {
                        "text/plain": "FloatProgress(value=0.0, bar_style='info', description='Progress:', layout=Layout(height='25px', width='50%'),…",
                        "application/vnd.jupyter.widget-view+json": {
                            "version_major": 2,
                            "version_minor": 0,
                            "model_id": "aa66d89ae91e464989173d8c25012168"
                        }
                    },
                    "metadata": {},
                    "output_type": "display_data"
                },
                {
                    "name": "stdout",
                    "text": "MSSQL Connector write(append) succeeded",
                    "output_type": "stream"
                }
            ],
            "execution_count": 23
        },
        {
            "cell_type": "code",
            "source": [
                "#Read from SQL table using MSSQL Connector\r\n",
                "dbtable = \"test2\"\r\n",
                "\r\n",
                "jdbcDF = spark.read \\\r\n",
                "        .format(\"com.microsoft.sqlserver.jdbc.spark\") \\\r\n",
                "        .option(\"url\", url) \\\r\n",
                "        .option(\"dbtable\", dbtable) \\\r\n",
                "        .option(\"user\", user) \\\r\n",
                "        .option(\"password\", password).load()\r\n",
                "\r\n",
                "jdbcDF.show(5)"
            ],
            "metadata": {
                "azdata_cell_guid": "bd1b3ccd-3ed7-4b21-9b57-95d1d774d76e"
            },
            "outputs": [
                {
                    "data": {
                        "text/plain": "FloatProgress(value=0.0, bar_style='info', description='Progress:', layout=Layout(height='25px', width='50%'),…",
                        "application/vnd.jupyter.widget-view+json": {
                            "version_major": 2,
                            "version_minor": 0,
                            "model_id": "3ce2396102ee419192cd8f41c06ea044"
                        }
                    },
                    "metadata": {},
                    "output_type": "display_data"
                },
                {
                    "name": "stdout",
                    "text": "+---+-------+----+-----+\n| Id|   Date|Year|Month|\n+---+-------+----+-----+\n|  1|2020-01|2020|   01|\n|  2|2020-02|2020|   02|\n|  3|2020-03|2020|   03|\n+---+-------+----+-----+",
                    "output_type": "stream"
                }
            ],
            "execution_count": 24
        },
        {
            "cell_type": "code",
            "source": [
                "## append with 2 computed columns in between\r\n",
                "# Write from Spark to SQL table using MSSQL Spark Connector\r\n",
                "dbtable = \"test3\"\r\n",
                "\r\n",
                "try:\r\n",
                "  df.write \\\r\n",
                "    .format(\"com.microsoft.sqlserver.jdbc.spark\") \\\r\n",
                "    .mode(\"append\") \\\r\n",
                "    .option(\"url\", url) \\\r\n",
                "    .option(\"dbtable\", dbtable) \\\r\n",
                "    .option(\"user\", user) \\\r\n",
                "    .option(\"password\", password) \\\r\n",
                "    .option(\"schemaCheckEnabled\", False) \\\r\n",
                "    .save()\r\n",
                "except ValueError as error :\r\n",
                "    print(\"MSSQL Connector write failed\", error)\r\n",
                "\r\n",
                "print(\"MSSQL Connector write(append) done  \")"
            ],
            "metadata": {
                "azdata_cell_guid": "10bbf920-e50f-4098-be1b-f06024a52fac",
                "tags": []
            },
            "outputs": [
                {
                    "data": {
                        "text/plain": "FloatProgress(value=0.0, bar_style='info', description='Progress:', layout=Layout(height='25px', width='50%'),…",
                        "application/vnd.jupyter.widget-view+json": {
                            "version_major": 2,
                            "version_minor": 0,
                            "model_id": "2967ac7f14e34d27970e0833b7eb5645"
                        }
                    },
                    "metadata": {},
                    "output_type": "display_data"
                },
                {
                    "name": "stdout",
                    "text": "MSSQL Connector write(append) done",
                    "output_type": "stream"
                }
            ],
            "execution_count": 21
        },
        {
            "cell_type": "code",
            "source": [
                "#Read from SQL table using MSSQL Connector\r\n",
                "dbtable = \"test3\"\r\n",
                "\r\n",
                "jdbcDF = spark.read \\\r\n",
                "        .format(\"com.microsoft.sqlserver.jdbc.spark\") \\\r\n",
                "        .option(\"url\", url) \\\r\n",
                "        .option(\"dbtable\", dbtable) \\\r\n",
                "        .option(\"user\", user) \\\r\n",
                "        .option(\"password\", password).load()\r\n",
                "\r\n",
                "jdbcDF.show(5)"
            ],
            "metadata": {
                "azdata_cell_guid": "1c81ee7d-62bc-4a4d-acfa-900b6efeb6ec",
                "tags": []
            },
            "outputs": [
                {
                    "data": {
                        "text/plain": "FloatProgress(value=0.0, bar_style='info', description='Progress:', layout=Layout(height='25px', width='50%'),…",
                        "application/vnd.jupyter.widget-view+json": {
                            "version_major": 2,
                            "version_minor": 0,
                            "model_id": "c610b609efaa4d27b53e1a48a417888e"
                        }
                    },
                    "metadata": {},
                    "output_type": "display_data"
                },
                {
                    "name": "stdout",
                    "text": "+---+-------+----+--------+-----+\n| Id|   Date|Year|   Years|Month|\n+---+-------+----+--------+-----+\n|  1|2020-01|2020|20202020|   01|\n|  2|2020-02|2020|20202020|   02|\n|  3|2020-03|2020|20202020|   03|\n+---+-------+----+--------+-----+",
                    "output_type": "stream"
                }
            ],
            "execution_count": 22
        },
        {
            "cell_type": "code",
            "source": [
                "## append with 1 computed column in df and table, but table has 1 less col\r\n",
                "# set schemaCheckEnabled\" as False\r\n",
                "# Write from Spark to SQL table using MSSQL Spark Connector\r\n",
                "dbtable = \"test4\"\r\n",
                "\r\n",
                "try:\r\n",
                "  df.write \\\r\n",
                "    .format(\"com.microsoft.sqlserver.jdbc.spark\") \\\r\n",
                "    .mode(\"append\") \\\r\n",
                "    .option(\"url\", url) \\\r\n",
                "    .option(\"dbtable\", dbtable) \\\r\n",
                "    .option(\"user\", user) \\\r\n",
                "    .option(\"password\", password) \\\r\n",
                "    .option(\"schemaCheckEnabled\", False) \\\r\n",
                "    .save()\r\n",
                "except ValueError as error :\r\n",
                "    print(\"MSSQL Connector write failed\", error)\r\n",
                "\r\n",
                "print(\"MSSQL Connector write(append) done  \")"
            ],
            "metadata": {
                "azdata_cell_guid": "0fcd38ab-a367-45e7-8d80-acb978176c82"
            },
            "outputs": [
                {
                    "data": {
                        "text/plain": "FloatProgress(value=0.0, bar_style='info', description='Progress:', layout=Layout(height='25px', width='50%'),…",
                        "application/vnd.jupyter.widget-view+json": {
                            "version_major": 2,
                            "version_minor": 0,
                            "model_id": "98bb7592e1b24920909dd4ed6542737a"
                        }
                    },
                    "metadata": {},
                    "output_type": "display_data"
                },
                {
                    "name": "stdout",
                    "text": "MSSQL Connector write(append) done",
                    "output_type": "stream"
                }
            ],
            "execution_count": 19
        },
        {
            "cell_type": "code",
            "source": [
                "#Read from SQL table using MSSQL Connector\r\n",
                "dbtable = \"test4\"\r\n",
                "\r\n",
                "jdbcDF = spark.read \\\r\n",
                "        .format(\"com.microsoft.sqlserver.jdbc.spark\") \\\r\n",
                "        .option(\"url\", url) \\\r\n",
                "        .option(\"dbtable\", dbtable) \\\r\n",
                "        .option(\"user\", user) \\\r\n",
                "        .option(\"password\", password).load()\r\n",
                "\r\n",
                "jdbcDF.show(5)"
            ],
            "metadata": {
                "azdata_cell_guid": "bb9add17-d962-4e9d-b407-cf1d43cbaf98"
            },
            "outputs": [
                {
                    "data": {
                        "text/plain": "FloatProgress(value=0.0, bar_style='info', description='Progress:', layout=Layout(height='25px', width='50%'),…",
                        "application/vnd.jupyter.widget-view+json": {
                            "version_major": 2,
                            "version_minor": 0,
                            "model_id": "f7300341de024a018ddad006b91624fc"
                        }
                    },
                    "metadata": {},
                    "output_type": "display_data"
                },
                {
                    "name": "stdout",
                    "text": "+---+----+--------+\n| Id|Year|   Years|\n+---+----+--------+\n|  1|2020|20202020|\n|  2|2020|20202020|\n|  3|2020|20202020|\n+---+----+--------+",
                    "output_type": "stream"
                }
            ],
            "execution_count": 20
        }
    ]
}